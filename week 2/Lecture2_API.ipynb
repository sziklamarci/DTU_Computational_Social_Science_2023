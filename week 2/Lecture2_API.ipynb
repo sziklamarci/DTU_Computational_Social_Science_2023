{
 "cells": [
  {
   "cell_type": "code",
   "execution_count": 64,
   "metadata": {},
   "outputs": [],
   "source": [
    "import requests\n",
    "import pandas\n",
    "import time"
   ]
  },
  {
   "cell_type": "code",
   "execution_count": 2,
   "metadata": {},
   "outputs": [],
   "source": [
    "df = pandas.read_csv(\"../data/all_names.csv\")"
   ]
  },
  {
   "cell_type": "code",
   "execution_count": null,
   "metadata": {},
   "outputs": [],
   "source": [
    "all_auIds = set([])\n",
    "\n",
    "for index2 in range(46):\n",
    "    for index in range(53):\n",
    "        a = df.iloc[index,1]\n",
    "        BASE_URL = \"https://api.semanticscholar.org/graph/\"\n",
    "        VERSION = \"v1/\"\n",
    "        RESOURCE = \"author/search\"\n",
    "        params = {\"query\" : a,\n",
    "                \"limit\": \"1\",\n",
    "                \"fields\": \"authorId,papers.authors\",\n",
    "        }\n",
    "        my_url = BASE_URL + VERSION + RESOURCE\n",
    "        response = requests.get(my_url, params=params).json()\n",
    "    \n",
    "        if not response[\"data\"] == []:\n",
    "            paperlen = len(response[\"data\"][0][\"papers\"])\n",
    "            for i in range(paperlen):\n",
    "                authorslen = len(response[\"data\"][0][\"papers\"][i][\"authors\"])\n",
    "                for j in range(authorslen):\n",
    "                    all_auIds.add(response[\"data\"][0][\"papers\"][i][\"authors\"][j][\"authorId\"])\n",
    "        print(index2)\n",
    "        todf = pandas.DataFrame(all_auIds)\n",
    "        todf.to_csv('../data/all_auIds.csv',encoding='utf-8-sig')\n",
    "        print(\"Batch saved as csv.\")\n",
    "        time.sleep(310)\n"
   ]
  }
 ],
 "metadata": {
  "kernelspec": {
   "display_name": ".venv",
   "language": "python",
   "name": "python3"
  },
  "language_info": {
   "codemirror_mode": {
    "name": "ipython",
    "version": 3
   },
   "file_extension": ".py",
   "mimetype": "text/x-python",
   "name": "python",
   "nbconvert_exporter": "python",
   "pygments_lexer": "ipython3",
   "version": "3.11.2"
  },
  "orig_nbformat": 4,
  "vscode": {
   "interpreter": {
    "hash": "6f28056c85ad683ce4508f93dab4bdf67f0bd635cfe5ea3e71bc4a37b6aa9181"
   }
  }
 },
 "nbformat": 4,
 "nbformat_minor": 2
}
