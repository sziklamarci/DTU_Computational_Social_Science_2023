{
 "cells": [
  {
   "cell_type": "code",
   "execution_count": 44,
   "metadata": {},
   "outputs": [],
   "source": [
    "import numpy as np\n",
    "import pandas as pd\n",
    "import csv\n",
    "import statistics as st\n",
    "import scipy\n",
    "from scipy import stats\n",
    "import matplotlib.pyplot as plt"
   ]
  },
  {
   "cell_type": "code",
   "execution_count": 45,
   "metadata": {},
   "outputs": [],
   "source": [
    "data1 = pd.read_csv('w3data/data1.tsv', sep='\\t', header=None).values\n",
    "data2 = pd.read_csv('w3data/data2.tsv', sep='\\t', header=None).values\n",
    "data3 = pd.read_csv('w3data/data3.tsv', sep='\\t', header=None).values\n",
    "data4 = pd.read_csv('w3data/data4.tsv', sep='\\t', header=None).values"
   ]
  },
  {
   "cell_type": "code",
   "execution_count": 15,
   "metadata": {},
   "outputs": [
    {
     "name": "stdout",
     "output_type": "stream",
     "text": [
      "      0.21\n"
     ]
    }
   ],
   "source": []
  },
  {
   "cell_type": "code",
   "execution_count": 46,
   "metadata": {},
   "outputs": [],
   "source": [
    "m1_1 = np.mean(data1,axis=0)[0]\n",
    "m1_2 = np.mean(data1,axis=0)[1]\n",
    "m2_1 = np.mean(data2,axis=0)[0]\n",
    "m2_2 = np.mean(data2,axis=0)[1]\n",
    "m3_1 = np.mean(data3,axis=0)[0]\n",
    "m3_2 = np.mean(data3,axis=0)[1]\n",
    "m4_1 = np.mean(data4,axis=0)[0]\n",
    "m4_2 = np.mean(data4,axis=0)[1]\n",
    "\n",
    "v1_1 = st.variance(data1[:,0])\n",
    "v1_2 = st.variance(data1[:,1])\n",
    "v2_1 = st.variance(data2[:,0])\n",
    "v2_2 = st.variance(data2[:,1])\n",
    "v3_1 = st.variance(data3[:,0])\n",
    "v3_2 = st.variance(data3[:,1])\n",
    "v4_1 = st.variance(data4[:,0])\n",
    "v4_2 = st.variance(data4[:,1])\n",
    "\n",
    "pr1 = scipy.stats.pearsonr(data1[:,0],data1[:,1])\n",
    "pr2 = scipy.stats.pearsonr(data2[:,0],data2[:,1])\n",
    "pr3 = scipy.stats.pearsonr(data3[:,0],data3[:,1])\n",
    "pr4 = scipy.stats.pearsonr(data4[:,0],data4[:,1])\n",
    "\n",
    "slope1, intercept1, r_value1, p_value1, std_err1 = stats.linregress(data1[:,0],data1[:,1])\n",
    "slope2, intercept2, r_value2, p_value2, std_err2 = stats.linregress(data2[:,0],data2[:,1])\n",
    "slope3, intercept3, r_value3, p_value3, std_err3 = stats.linregress(data3[:,0],data3[:,1])\n",
    "slope4, intercept4, r_value4, p_value4, std_err4 = stats.linregress(data4[:,0],data4[:,1])"
   ]
  },
  {
   "cell_type": "code",
   "execution_count": 48,
   "metadata": {},
   "outputs": [
    {
     "data": {
      "text/plain": [
       "'print(\"{:10.2f}\".format(m1_1))\\nprint(\"{:10.2f}\".format(m1_2))\\nprint(\"{:10.2f}\".format(m2_1))\\nprint(\"{:10.2f}\".format(m2_2))\\nprint(\"{:10.2f}\".format(m3_1))\\nprint(\"{:10.2f}\".format(m3_2))\\nprint(\"{:10.2f}\".format(m4_1))\\nprint(\"{:10.2f}\".format(m4_2))\\n\\nprint(\"{:10.3f}\".format(v1_1))\\nprint(\"{:10.3f}\".format(v1_2))\\nprint(\"{:10.3f}\".format(v2_1))\\nprint(\"{:10.3f}\".format(v2_2))\\nprint(\"{:10.3f}\".format(v3_1))\\nprint(\"{:10.3f}\".format(v3_2))\\nprint(\"{:10.3f}\".format(v4_1))\\nprint(\"{:10.3f}\".format(v4_2))'"
      ]
     },
     "execution_count": 48,
     "metadata": {},
     "output_type": "execute_result"
    }
   ],
   "source": [
    "#yeah they are roughly the same\n",
    "'''print(\"{:10.2f}\".format(m1_1))\n",
    "print(\"{:10.2f}\".format(m1_2))\n",
    "print(\"{:10.2f}\".format(m2_1))\n",
    "print(\"{:10.2f}\".format(m2_2))\n",
    "print(\"{:10.2f}\".format(m3_1))\n",
    "print(\"{:10.2f}\".format(m3_2))\n",
    "print(\"{:10.2f}\".format(m4_1))\n",
    "print(\"{:10.2f}\".format(m4_2))\n",
    "\n",
    "print(\"{:10.3f}\".format(v1_1))\n",
    "print(\"{:10.3f}\".format(v1_2))\n",
    "print(\"{:10.3f}\".format(v2_1))\n",
    "print(\"{:10.3f}\".format(v2_2))\n",
    "print(\"{:10.3f}\".format(v3_1))\n",
    "print(\"{:10.3f}\".format(v3_2))\n",
    "print(\"{:10.3f}\".format(v4_1))\n",
    "print(\"{:10.3f}\".format(v4_2))'''"
   ]
  },
  {
   "cell_type": "code",
   "execution_count": 41,
   "metadata": {},
   "outputs": [
    {
     "data": {
      "text/plain": [
       "<Figure size 640x480 with 0 Axes>"
      ]
     },
     "metadata": {},
     "output_type": "display_data"
    },
    {
     "data": {
      "image/png": "[encoded data removed]",
      "text/plain": [
       "<Figure size 640x480 with 4 Axes>"
      ]
     },
     "metadata": {},
     "output_type": "display_data"
    }
   ],
   "source": [
    "fig = plt.figure()\n",
    "\n",
    "fig = plt.figure()\n",
    "ax1 = fig.add_subplot(2, 2, 1)\n",
    "ax2 = fig.add_subplot(2, 2, 2, sharex=ax1, sharey = ax1)\n",
    "ax3 = fig.add_subplot(2, 2, 3, sharex=ax1, sharey = ax1)\n",
    "ax4 = fig.add_subplot(2, 2, 4, sharex=ax1, sharey = ax1)\n",
    "\n",
    "ax1.plot(data1[:,0],data1[:,1], 'k.')\n",
    "\n",
    "ax2.plot(data2[:,0],data2[:,1], 'k.')\n",
    "\n",
    "ax3.plot(data3[:,0],data3[:,1], 'k.')\n",
    "\n",
    "ax4.plot(data4[:,0],data4[:,1], 'k.')\n",
    "\n",
    "plt.show()"
   ]
  },
  {
   "cell_type": "code",
   "execution_count": null,
   "metadata": {},
   "outputs": [],
   "source": []
  }
 ],
 "metadata": {
  "kernelspec": {
   "display_name": ".venv",
   "language": "python",
   "name": "python3"
  },
  "language_info": {
   "codemirror_mode": {
    "name": "ipython",
    "version": 3
   },
   "file_extension": ".py",
   "mimetype": "text/x-python",
   "name": "python",
   "nbconvert_exporter": "python",
   "pygments_lexer": "ipython3",
   "version": "3.11.2"
  },
  "orig_nbformat": 4,
  "vscode": {
   "interpreter": {
    "hash": "6f28056c85ad683ce4508f93dab4bdf67f0bd635cfe5ea3e71bc4a37b6aa9181"
   }
  }
 },
 "nbformat": 4,
 "nbformat_minor": 2
}
