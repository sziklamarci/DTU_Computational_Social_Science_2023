{
 "cells": [
  {
   "cell_type": "code",
   "execution_count": 1,
   "metadata": {},
   "outputs": [],
   "source": [
    "from bs4 import BeautifulSoup\n",
    "import pandas as pd\n",
    "import tabula\n",
    "from tabula import read_pdf"
   ]
  },
  {
   "cell_type": "code",
   "execution_count": 2,
   "metadata": {},
   "outputs": [
    {
     "data": {
      "text/plain": [
       "475"
      ]
     },
     "execution_count": 2,
     "metadata": {},
     "output_type": "execute_result"
    }
   ],
   "source": [
    "## 2019\n",
    "LINK19 = \"https://2019.ic2s2.org/delegates/\"\n",
    "tables19 = pd.read_html(LINK19)\n",
    "\n",
    "names19 = []\n",
    "for i in range(1,len(tables19[0][0])):\n",
    "    row = tables19[0][0][i].split(', ')\n",
    "    names19.append(row[1]+ ' ' +row[0])\n",
    "    \n",
    "names19 = list(set(names19))"
   ]
  },
  {
   "cell_type": "code",
   "execution_count": 3,
   "metadata": {},
   "outputs": [
    {
     "data": {
      "text/plain": [
       "990"
      ]
     },
     "execution_count": 3,
     "metadata": {},
     "output_type": "execute_result"
    }
   ],
   "source": [
    "## 2020\n",
    "LINK20 = \"https://docs.google.com/spreadsheets/d/e/2PACX-1vTX9_1Xftn7D-nSI8X9b7tafr_Z0kAbphKdfZ8qUSU9p-syXNsGPdhHl5ZyTnKKL-T6dCEJqtsrn3wy/pubhtml/sheet?headers=false&gid=181378784\"\n",
    "tables20 = pd.read_html(LINK20)\n",
    "tables20 = tables20[0].values.tolist()\n",
    "names20 = []\n",
    "for i in range(1,len(tables20)):\n",
    "    try:\n",
    "        row = tables20[i][3].split(', ')\n",
    "        for j in range(len(row)):\n",
    "            names20.append(row[j])\n",
    "    except:\n",
    "        pass\n",
    "names20 = list(set(names20))"
   ]
  },
  {
   "cell_type": "code",
   "execution_count": 4,
   "metadata": {},
   "outputs": [
    {
     "data": {
      "text/plain": [
       "692"
      ]
     },
     "execution_count": 4,
     "metadata": {},
     "output_type": "execute_result"
    }
   ],
   "source": [
    "## 2021\n",
    "LINK21 = \"https://easychair.org/smart-program/IC2S2-2021/talk_author_index.html\"\n",
    "tables21 = pd.read_html(LINK21)\n",
    "\n",
    "names21 = []\n",
    "for i in range(1,len(tables21[0][0])):\n",
    "    row = tables21[0][0][i].split(', ')\n",
    "    if len(row)>1:\n",
    "        names21.append(row[1]+ ' ' +row[0])\n",
    "    \n",
    "names21 = list(set(names21))"
   ]
  },
  {
   "cell_type": "code",
   "execution_count": 59,
   "metadata": {},
   "outputs": [
    {
     "data": {
      "text/plain": [
       "850"
      ]
     },
     "execution_count": 59,
     "metadata": {},
     "output_type": "execute_result"
    }
   ],
   "source": [
    "## 2022\n",
    "LINK22 = \"https://bee8d65b-f2d5-4224-83f6-df475c333f5b.filesusr.com/ugd/3d8e26_1394ecaa666e4d6d8d8199fe28d17746.pdf\"\n",
    "tables22 = read_pdf(LINK22, pages='27-47', multiple_tables=False)\n",
    "tables22 = tables22[0].iloc[:,1].values.tolist()\n",
    "\n",
    "tables22_clear = []       #cleanup if not a name\n",
    "for i in range(len(tables22)):\n",
    "    if type(tables22[i])!=float and tables22[i]!='Authors':\n",
    "        tables22_clear.append(tables22[i])\n",
    "\n",
    "\n",
    "tables22 = []      #cleanup of separators\n",
    "for i in range(len(tables22_clear)):\n",
    "        c_row = tables22_clear[i].replace('\\r',' ')\n",
    "        c_row = c_row.replace(' and',', ')\n",
    "        c_row = c_row.replace('  ',' ')\n",
    "        c_row = c_row.replace('  ',' ')\n",
    "        c_row = c_row.strip(' ')\n",
    "        c_row = c_row.strip(',')\n",
    "        tables22.append(c_row)\n",
    "\n",
    "names22 = []\n",
    "\n",
    "for i in range(len(tables22)):     #getting the names\n",
    "    row = tables22[i].split(', ')\n",
    "    if len(row)>1:\n",
    "        if len(row[0].split(' '))==1:\n",
    "            names22.append(names22[-1])\n",
    "            names22[-1] = names22[-1]+' '+row[0]\n",
    "        else:\n",
    "            names22.append(row[0])\n",
    "        for j in range(1, len(row)-1):\n",
    "            names22.append(row[j])\n",
    "        if len(row[-1].split(' '))==1:\n",
    "            \n",
    "            names22.append(row[-1]+ ' ' + tables22[i+1].split(', ')[0])\n",
    "        else:\n",
    "            names22.append(row[-1])\n",
    "    else:\n",
    "        if len(row[0].split(' '))==1:\n",
    "            names22[-1] = names22[-1]+' '+row[0]\n",
    "        else:\n",
    "            names22.append(row[0])\n",
    "\n",
    "for i in range(len(names22)):    #cleanup of getting messy names\n",
    "    temp = names22[i]\n",
    "    row = names22[i].split(' ')\n",
    "    for j in range(len(row)-1):\n",
    "        if row[j] == row[j+1]:\n",
    "            names22[i] = temp[:len(temp)-len(row[j+1])-1]\n",
    "\n",
    "names22 = list(set(names22))"
   ]
  },
  {
   "cell_type": "code",
   "execution_count": 66,
   "metadata": {},
   "outputs": [],
   "source": [
    "#unique overall\n",
    "all_names = list(set(names19+names20+names21+names22))"
   ]
  },
  {
   "cell_type": "code",
   "execution_count": 67,
   "metadata": {},
   "outputs": [
    {
     "name": "stdout",
     "output_type": "stream",
     "text": [
      "Number of unique researchers in 2019: 475\n",
      "Number of unique researchers in 2020: 990\n",
      "Number of unique researchers in 2021: 692\n",
      "Number of unique researchers in 2022: 850\n",
      "Number of unique researchers overall: 2438\n"
     ]
    }
   ],
   "source": [
    "print('Number of unique researchers in 2019: ' + str(len(names19)))  \n",
    "print('Number of unique researchers in 2020: ' + str(len(names20)))\n",
    "print('Number of unique researchers in 2021: ' + str(len(names21)))\n",
    "print('Number of unique researchers in 2022: ' + str(len(names22)))\n",
    "print('Number of unique researchers overall: ' + str(len(all_names)))"
   ]
  },
  {
   "cell_type": "code",
   "execution_count": 73,
   "metadata": {},
   "outputs": [],
   "source": [
    "all_names.sort()\n",
    "todf = pd.DataFrame(all_names)\n",
    "todf.to_csv('all_names.csv',encoding='utf-8-sig')"
   ]
  }
 ],
 "metadata": {
  "kernelspec": {
   "display_name": ".venv",
   "language": "python",
   "name": "python3"
  },
  "language_info": {
   "codemirror_mode": {
    "name": "ipython",
    "version": 3
   },
   "file_extension": ".py",
   "mimetype": "text/x-python",
   "name": "python",
   "nbconvert_exporter": "python",
   "pygments_lexer": "ipython3",
   "version": "3.11.2"
  },
  "orig_nbformat": 4,
  "vscode": {
   "interpreter": {
    "hash": "6f28056c85ad683ce4508f93dab4bdf67f0bd635cfe5ea3e71bc4a37b6aa9181"
   }
  }
 },
 "nbformat": 4,
 "nbformat_minor": 2
}
