{
 "cells": [
  {
   "cell_type": "code",
   "execution_count": 1,
   "metadata": {},
   "outputs": [],
   "source": [
    "from bs4 import BeautifulSoup ##A package to work with HTML data\n",
    "import requests #A package to make HTTP requests\n",
    "import pandas as pd\n",
    "import numpy as np"
   ]
  },
  {
   "cell_type": "markdown",
   "metadata": {},
   "source": [
    "Webscraping:\n",
    "Get names of participants in 2019-2022 Computational Social Science conference"
   ]
  },
  {
   "cell_type": "markdown",
   "metadata": {},
   "source": [
    "2019"
   ]
  },
  {
   "cell_type": "code",
   "execution_count": 2,
   "metadata": {},
   "outputs": [
    {
     "name": "stdout",
     "output_type": "stream",
     "text": [
      "477\n"
     ]
    }
   ],
   "source": [
    "# 2019\n",
    "LINK = \"https://2019.ic2s2.org/delegates/\"\n",
    "r = requests.get(LINK)\n",
    "soup = BeautifulSoup(r.content)\n",
    "\n",
    "table = soup.find(\"table\")\n",
    "\n",
    "# HEADER\n",
    "ths = table.find_all('tr')\n",
    "header = ths[0].find_all('td')\n",
    "header = [th.text.replace(\"\\n\",\"\") for th in header]\n",
    "ths = ths[1:]\n",
    "\n",
    "# ROWS\n",
    "rows = []\n",
    "for tr in ths:\n",
    "    tds = tr.find_all('td')\n",
    "    row = [td.text.replace(\"\\n\",\"\") for td in tds]\n",
    "    rows.append(row)\n",
    "\n",
    "names_2019 = []\n",
    "for row in rows:\n",
    "    last_first = row[0].split(', ')\n",
    "    first_last = last_first[1] + \" \" + last_first[0]\n",
    "    names_2019.append(first_last)\n",
    "\n",
    "print(len(names_2019))"
   ]
  },
  {
   "cell_type": "markdown",
   "metadata": {},
   "source": [
    "2020"
   ]
  },
  {
   "cell_type": "code",
   "execution_count": 3,
   "metadata": {},
   "outputs": [
    {
     "name": "stdout",
     "output_type": "stream",
     "text": [
      "1388\n"
     ]
    }
   ],
   "source": [
    "raw_data = \"Alex Pentland, Esteban Moro, Manuel Herranz, Vedran Sekara, Yan Leng, Diogo Pacheco, Kaicheng Yang, Pik-mai Hui, Dashun Wang, Lu Liu, Jana Diesner, Rezvaneh Rezapour, Shubhanshu Mishra, Kostas Stathoulopoulos, Zac Ioannidis, Andrea Baronchelli, Antonio Arechar, David Rand, Dean Eckles, Gordon Pennycook, Mohsen Mosleh, Ziv Epstein, Bryan Daniels, Chris Myers, David Krakauer, Edward Lee, Jessica Flack, Andras Voros, Christoph Stadtfeld, Hannah Muelder, Kieran Mepham, Marloes Maathuis, Michele Coscia, Christoph Kern, Denis Bonnay, Ruben Bach, Alvin Zhou, Kokil Jaidka, Yphtach Lelkes, Ashton Anderson, Isaac Waller, Alessandro Artoni, Francesco Pierri, Stefano Ceri, Alejandro Andrade, Anna Shvarts, Arthur Bakker, Dor Abrahamson, Lu Ou, Maria Bolsinova, Rosa Alberto, Alexandru Cernat, Florian Keusch, Alex Pentland, Dean Eckles, Martin Saveski, Yan Leng, Alexander Stewart, Antonio Arechar, David Rand, Joshua Plotkin, Marina Diakonova, Mohsen Mosleh, Carlos Fernandez, Foster Provost, Dean Eckles, Kiran Garimella, Ashton Anderson, Jon Kleinberg, Reid Mcilroy-young, Siddhartha Sen, Adam Hughes, David Lazer, Emma Remy, Sono Shah, Stefan Mccabe, William Hobbs, Alessandra Russo, Avelie Stuart, Elahe Naserian, Luke Dickens, Miriam Koschate, Florian Keusch, Frauke Kreuter, Georg-christoph Haas, Mark Trappmann, Sebastian Bahr, Elahe Naserian, Miriam Koschate-reis, Jan Overgoor, Johan Ugander, Pakapol Supaniratisai, Drew Dimmery, Yan Leng, Ceren Budak, Lia Bozarth, Alex Pentland, Dan Calacci, Ho-chun Chang, Soyun Ahn, Ana-andreea Stoica, Augustin Chaintreau, Jessy Han, Bedoor Alshebli, Gururaghav Raman, Jimmy Peng, Marcin Waniek, Talal Rahwan, Daniele Quercia, Luca Aiello, Milan Janosov, Chenhao Tan, Qin Lv, Shuo Zhang, Aaron Schein, David Blei, Dhanya Sridhar, Donald Green, James Moffet, Jeffrey Quinn, Keyon Vafa, Naseem Makiya, Victor Veitch, Adam Berinsky, Ali Jadbabaie, Amir Tohidi, Dean Eckles, Manon Revel, Alex Pentland, Felipe Montes, German Sanchez, Isabella Loaiza, Lina Ramos, Francesco Rampazzo, Katherine Pham, Leah Rosenzweig, Matthewo Mildenberger, Parrish Bergquist, Christos Nicolaides, Dean Eckles, Brandon Roy, Deb Roy, Emre Calisir, Marco Brambilla, David Rand, Erin Wamsley, Graelyn Humiston, Anton Boichenko, Nicholas Beauchamp, Tanya Berger-wolf, Bas Hofstra, Charles Gomez, Sebastian Munoz-najar, Alexander Waagen, Charles Martin, Tasi-ching Lu, Derek Weber, Lewis Mitchell, Lucia Falzon, Mehwish Nasim, Matthewhew Turner, Paul Smaldino, Jacob Staerk-ostergaard, Robin Engelhardt, Satyam Mukherjee, Brian Uzzi, Ryan Whalen, Sourav Medya, Daniel Romero, Edward Platt, Herminio Bodon, Kiran Garimella, Kirill Martynov, Robert West, Antonio Arechar, David Rand, Gord Pennycook, Jennifer Allen, Chris Riedl, Patrick Forber, Rory Smead, Zach Fulker, Gargiulo Floriana, Antonio Sirianni, Charles Gomez, Launy Schweiger, Kostas Stathoulopoulos, Zac Ioannidis, Alexandre Bovet, Anamika Shreeva, Anna Keuchenius, Chico Camargo, Irene Malvestio, Lea Brandt, Mikolaj Biesaga, Sabin Roman, Luca Verginer, Massimo Riccaboni, Pietro Panzarasa, Xiancheng Li, Feng Fu, Ho-chun Chang, Henner Gimpel, Manfred Schoch, Ricarda Schafer, Robert Laubacher, Doyne Farmer, Francois Lafond, Mariano Beguerisse-diaz, Penny Mealy, R. Rio-chanona, Haewoon Kwak, Hyeonho Song, Kunwoo Park, Meeyoung Cha, Hannes Ullrich, Michael Ribers, Alex Pentland, Dhaval Adjodah, Esteban Moro, Peter Kraft, Shi Chong, Yan Leng, Ashkan Kazemi, Jenna Sherman, Nat Gyenes, Scott Hale, Alfredo Morales, Dominic Saad, Mark Sutcliffe, Yaneer Bar-yam, Lulu Peng, Aparna Ananthasubramaniam, Daniel Romero, David Jurgens, Brian Aronson, Kaicheng Yang, Yy Ahn, Jodi Basner, Karen White, Wan-ying Chang, Akira Matsui, Andres Abeliuk, Aram Galstyan, Emilio Ferrara, Fred Morstatter, Bryan Moser, Ira Winder, Jeff Dieffenbach, Katherine Carroll, Keran Rong, Prakash Manandhar, Roland Filippi, Qing Ke, Soojong Kim, John Scott, Renzhe Yu, Dashun Wang, Yang Wang, Zhen Lei, Zhongyang He, Poong Oh, Soojong Kim, Ceren Budak, Danaja Maldeniya, Daniel Romero, Lionel Robert, Fosca Giannotti, Ioanna Miliou, Lorenzo Gabrielli, Luca Pappalardo, Vasiliki Voukelatou, Lewis Mitchell, Matthewhew Roughan, Tobin South, Janos Kertesz, Julia Koltai, Marton Karsai, Zoltan Kmetty, Amir Karami, Frank Webb, Anna Keuchenius, Justus Uitermark, Petter Tornberg, Karoly Bozsonyi, Zoltan Kmetty, Arun Frey, Christopher Barrie, Polina Revina, Jaeryoung Ka, Jeongwook Kim, Jiwan Jeong, Jiyoung Han, Junbum Lee, Meeyoung Cha, Shohei Doi, Shuhei Kurizaki, Takayuki Mizuno, Balaraju Battu, Dilara Kekulluoglu, Kami Vaniea, Walid Magdy, Nick Allum, Polina Mosolova, Yunus Tapan, Jeffrey Sternberg, Cameron Martel, Hannah Weinberg-wolf, Jeremy Dohmann, Steve Chang, Eevastiina Gjerstad, Lili Aunimo, Allen Moulton, Nazli Choucri, Stuart Madnick, Yifeng Wan, Nicholas Hagar, Adam Bear, Ben Tappin, David Rand, Giovanni Tonutti, Florian Cafiero, Jeremy Ward, Paul Guille-escuret, Michael Hoefer, Edwin Jonge, Gert Buiten, Haewoon Kwak, Ingmar Weber, Jisun An, Luis Luque, Christian Almenar, Esteban Moro, Iyad Rahwan, Manuel Cebrian, Matthew Groh, Micah Epstein, Niccolo Pescetelli, Nick Obradovich, Ziv Epstein, Bernie Hogan, Sian Brooke, Radim Hladik, Talia Kaufmann, Robert Mahari, Sandor Lera, Daekyung Lee, Heetae Kim, Sang Lee, Cody Buntain, Jacob Shapiro, Joshua Tucker, Meysam Alizadeh, Charles Howland, David Rothschild, Duncan Watts, Jennifer Allen, Tobias Konitzer, Cheng-jun Wang, Huimin Xu, Cuihua Shen, Jian Zhu, Seth Frey, Yixin Zhou, Florianne Verkroost, Alessandro Flammini, Filippo Menczer, Kaicheng Yang, Mohsen Sayyadiharikandeh, Onur Varol, Hunter Heidenreich, Jake Williams, Munif Mujib, Jana Diesner, Mihai Avram, Nikolaus Parulian, Shubhanshu Mishra, Tiffany Lu, Jana Diesner, Janina Sarol, Ly Dinh, Bill Thompson, Mathew Hardy, Peaks Krafft, Tom Griffiths, Bruno Lepri, Giulia Cencetti, Lorenzo Lucchini, Riccardo Gallotti, Bruno Lepri, Marco Nadai, Massimiliano Luca, Ceren Budak, Lia Bozarth, Christoph Kern, Frauke Kreuter, Masha Krupenkin, Ruben Bach, Armin Pournaki, Eckehard Olbrich, Felix Gaisbauer, Sven Banisch, Ivan Smirnov, Sofia Dokuka, David Jurgens, Eshwar Chandrasekharan, Jiajun Bao, Junjie Wu, Yiming Zhang, Cristian Vallejos, Miguel Guevara, Alex Pentland, Dean Eckles, Eaman Jahani, Ivan Garibay, Seyyedmilad Talebzadehhosseini, Joshua Introne, Niraj Sitaula, Fan Yang, Qian Liu, Abhi Dubey, Matthew Groh, Oceane Boulais, Ziv Epstein, Hang-hyun Jo, Jeehye Choi, Aparna Ananthasubramaniam, Lingfei Wu, Linzhuo Li, Agnes Horvat, Johannes Wachs, Nicholas Hagar, David Rand, Gordon Pennycook, Ziv Epstein, Eun Lee, Ovidia Stanoi, Peter Much, James Siderius, Tanujit Chakraborty, Henrik Olsson, Tamara Does, Vicky Yang, Azadeh Nematzadeh, Daniel Romero, Emilio Ferrara, Hao Peng, Qi Hao, Qiaozhu Mei, Wei Ai, Xuan Lu, Xuanzhe Liu, Yanbin Cao, Anna Cigarini, Josep Perello, Julian Vicens, Joshua Blumenstock, Ceren Budak, Daniel Chen, Ji Kim, Milena Tsvetkova, Alessandro Rizzo, Matthewhieu Nadini, Maurizio Porfiri, Jason Burton, Ulrike Hahn, Kenneth Joseph, Yuhao Du, Aaron Clauset, Allison Morgan, Daniel Larremore, Michael Hoefer, Mirta Galesic, Samuel Way, Alessandro Flammini, Diogo Pacheco, Filippo Menczer, Alice Jang, Jesse Shore, Ivan Smirnov, Amol Bhondekar, Rishemjit Kaur, Ritesh Kumar, Tian Yang, Yilang Peng, James Houghton, Junming Huang, Tao Jia, Xiaoyao Yu, Brian Uzzi, Mohammad Rasoolinejad, Juan Serrano, Orestis Papakyriakopoulos, Simon Hegelich, Alex Arenas, Javier Borge-holthoefer, Josep Perello, Mario Gutierrez-roig, Benjamin Jones, Dashun Wang, Kuansan Wang, Yian Yin, Yuxiao Dong, Baird Howland, Daniel Muise, David Rothschild, Duncan Watts, Homa Hosseinmardi, Markus Mobius, Christoph Stadtfeld, Benjamin Horne, Cody Buntain, Mauricio Gruppi, Milo Trujillo, Dean Eckles, Jeremy Yang, Paramveer Dhillon, Sinan Aral, David Rand, Gordon Pennycook, Jon Mcphetres, Xi Chen, Alexander Petersen, Albert Kao, Alex Rutherford, Iyad Rahwan, Niccolo Pescetelli, Sebastian Steffen, Ashwin Rajadesingan, Ceren Budak, Paul Resnick, Aaron Shaw, Benjamin Hill, Nathante Teblunthuis, Daniel Mcfarland, Hancheng Cao, Mengjie Cheng, Xiang Ren, Zhepeng Cen, Bedoor Alshebli, Kinga Makovi, Talal Rahwan, Douglas Guilbeault, Joshua Becker, Samuel Woolley, Ashton Anderson, Dan Goldstein, Duncan Watts, George Lifchits, Jake Hofman, Alex Pentland, Burcin Bozkaya, Hasan Boz, Mohsen Bahrami, Selim Balcisoy, Yoshihiko Suhara, Arkadiusz Wisniowski, Dilek Yildiz, Emilio Zagheni, Guy Abel, Ingmar Weber, Stijn Hoorens, Denis Helic, Florian Lemmerich, Markus Strohmaier, Tiago Santos, Alla Baranovsky, Eaman Jahani, Irene Pasquetto, Matthewhew Baum, Benjamin Ooghe-tabanou, Dominique Cardon, Guillaume Plique, Jean-philippe Cointet, Raj Chetty, Munmun Choudhury, Iyad Rahwan, Manuel Cebrian, Matthew Groh, Nick Obradovich, Ziv Epstein, Christoph Dann, Dustin Tingley, Emma Brunskill, Glenn Lopez, Joseph Williams, Justin Reich, Mike Yeomans, Rene Kizilcec, Selen Turkay, Neil Johnson, Nicholas Johnson, Nicolas Velazquez-hernandez, Rhys Leahy, Yonatan Lupu, Naoki Maejima, Shohei Usui, Susumu Nagayama, Takanori Nishida, Kazutoshi Sasahara, Michio Hosaka, Shimpei Okuda, Deb Roy, Doug Beeferman, Eric Chu, Nabeel Gillani, Bruno Lepri, Federico Battiston, Giulia Cencetti, Marton Karsai, Adina Nerghes, Anne Toonders, David Dekker, Ju-sung Lee, Florian Lemmerich, Ivan Smirnov, Markus Strohmaier, Satyam Mukherjee, Tarun Jain, Edwin Jonge, Jan Laan, Emilio Ferrara, Emily Chen, Fred Morstatter, Julie Jiang, Kristina Lerman, Anna Croley, David Rothschild, Duncan Watts, Homa Hosseinmardi, Ling Dong, Markus Mobius, Berk Deniz, Armin Pournaki, Eckehard Olbrich, Felix Gaisbauer, Sven Banisch, Maneet Singh, Rishemjit Kaur, S R, Ashton Anderson, Ian Anderson, Lucas Maystre, Mounia Lalmas, Rishabh Mehrotra, Andrea Parker, Brooke Welles, Elizabeth Stowell, Ryan Gallagheer, Florian Cafiero, Gerald Bronner, Laurent Cordonier, Dan Jurafsky, Julia Mendelsohn, Yulia Tsvetkov, Elise Jing, Simon Dedeo, Yy Ahn, Daniel Goldstein, Forough Poursabzi-sangdeh, Jake Hofman, Siddhartha Sen, Farshad Kooti, Kristen Altenburger, Laila Wahedi, Allison Koencke, Andrew Nam, Connor Toups, Dan Jurafsky, Emily Lake, Joe Nudell, John Rickford, Minnie Quartey, Sharad Goel, Zion Mengesha, Neil Johnson, Nicholas Johnson-restrepo, Nicolas Velasquez, Rhys Leahy, Yonatan Lupu, Ceren Budak, Christopher Quarles, Paul Resnick, Agnese Chiatti, Andrew Fitzgerald, Byron Reeves, Jihye Lee, Katie Roehrick, Mu-jung Cho, Nilam Ram, Thomas Robinson, Xiao Yang, Xiaoran Sun, Brian Uzzi, Cristian Vallejos, Joseph Hoover, Nour Kteily, Qiaozhu Mei, Wei Ai, Xuan Lu, Xuanzhe Liu, Yanbin Cao, Jana Diesner, Kanyao Han, Kehan Li, Pingjing Yang, Shubhanshu Mishra, Ana Brito, Diego Amancio, Filipi Silva, Ashwin Rajadesingan, David Jurgens, Ramaswami Mahalingam, Cristian Vallejos, Flavio Pinheiro, Joselina Davyt, Miguel Guevara, Aaron Halfaker, Benjamin Hill, Nathante Teblunthuis, Haewoon Kwak, Jisun An, Yy Ahn, Nicole Nisbett, Viktoria Spaiser, Henriette Cramer, Jean Garcia-gathright, Samuel Way, Kiran Sharma, Jeffery Schank, Sydney Wood, Martin Lukac, Jianyin Roachell, Andres Abeliuk, Emilio Ferrara, Kristina Lerman, Zhishen Huang, Cassidy Sugimoto, Dakota Murray, Lili Miao, Vincent Lariviere, Woo-sung Jung, Yy Ahn, Filippo Menczer, John Bollenbacher, Alessandro Flammini, Diogo Pacheco, Filippo Menczer, John Bollenbacher, Pik-mai Hui, Yy Ahn, Ben Rachunok, Roshi Nateghi, Akshay Aravamudan, Anna Koufakou, Chathika Gunaratne, Georgios Anagnostopoulos, Ivan Garibay, Xi Zhang, Hugo Contreras, Leo Ferres, Andrew Wang, Cynthia Habonimana, Rediet Abebe, Christopher Quarles, Lia Bozarth, Anri Suzuki, Fujio Toriumi, Andrew Halterman, Lisa Friedland, Nir Grinberg, Swati Goel, Hyeonho Song, Kunwoo Park, Meeyoung Cha, Daniel Romero, Maxim Sytch, Patrick Park, Christian Strippel, Joachim Trebbe, Laura Laugwitz, Martin Emmer, Sabina Hartnett, Sunje Paasch-colberg, Balazs Nagy, Dorottya Demszky, Julia Koltai, Martina Szabo, Orsolya Ring, Veronika Vincze, Zoltan Kmetty, Daniel Schroeder, Johannes Langguth, Konstantin Pogorelov, Petra Filkukova, Anahit Sargsyan, Flavio Pinheiro, Mona Zubaidi, Mark Whiting, Michael Bernstein, Phoebe Yao, Haewoon Kwak, Jisun An, Yy Ahn, Christoph Reuter, Isabella Czedik-eysenberg, Oliver Wieczorek, Adam Sawyer, George Barnett, Seth Frey, Taha Yasseri, Jean-michel Dalle, Jose Halloy, Theophile Carniel, Brett Bourbon, Renita Murimi, Faiz Ahamad, Lana Bilalova, Subhayan Mukerjee, Alfredo Morales, Egemen Sert, Oral Okan, Oliver Wieczorek, Ahmet Kurnaz, Scott Hale, Johannes Wachs, Julia Koltai, Karoly Takacs, Laszlo Lorincz, Jana Diesner, Lan Jiang, Ly Dinh, Rezvaneh Rezapour, Haylee Ham, Milena Tsvetkova, Oana Vuculescu, Rinat Sergeev, Sebastian Muller, Abeer Aldayel, Walid Magdy, Brian Uzzi, Dashun Wang, Nima Dehmamy, Suman Maity, Victoria Medvec, Yang Wang, Muyang Li, Zhifan Luo, Arun Sen, Kaustav Basu, Alexander Mantzaris, Amirarsalan Rajabi, Cameron Taylor, Ivan Garibay, Alexander Loser, Betty Aken, Christian Strippel, Joachim Trebbe, Laura Laugwitz, Martin Emmer, Sunje Paasch-colberg, Brian Uzzi, Mohammad Rasoolinejad, Sourav Medya, Katherine Haenschen, Ali Tafti, Hyejin Youn, Mohamad Hosseinioun, Bari Bendell, Dmitry Zinoviev, Pelin Bicen, Jessica Santana, Sagar Kumar, Marc Rauckhorst, Nupur Baghel, Roshan Santhosh, Shubham Annadate, Shweta Chopra, Yi-nung Huang, Aniko Hannak, Kenneth Joseph, Stefania Ionescu, Luca Verginer, Massimo Riccaboni, Pietro Panzarasa, Xiancheng Li, Yifan Qian, Alex Pentland, Alia Braley, Dan Calacci, Dhaval Adjodah, Filippo Simini, Flavia Luca, Robert Eyre, Ismail Uluturk, Onur Varol, Alex Pentland, Ding Lyu, Lin Wang, Xiaofan Wang, Evgenia Dolgova, Pursey Heugens, Gwilym Pryce, Mohammed Aleinzi, Nathan Hughes, Roland Toth, Tatiana Trifonova, David Bartl, Jaroslav Ramik, Jiri Mazurek, Radomir Perzina, Adam Richards, Andrew Ledbetter, Jie Zhuang, Qinghua Yang, Andreas Witt, Diana Steffen, Jana Diesner, Jutta Bopp, Norman Fiedler, Rezvaneh Rezapour, Renata Nemeth, Zoltan Kmetty, Aaron Clauset, Daniel Larremore, Sam Zhang, Dakota Murray, Jisung Yoon, Rodrigo Costas, Stasa Milojevic, Woo-sung Jung, Yy Ahn, Hendrik Schawe, Laura Hernandez, Christopher Danforth, Joshua Minot, Michael Arnold, Peter Dodds, Thayer Alshaabi, Ulrike Hahn, Kristina Lerman, Filippo Menczer, Daniel Putman, Esteban Moro, Inaki Ucar, Marco Fiore, Marco Gramaglia, Zbigniew Smoreda, Amir Goldberg, Paul Vicinanza, Sameer Srivastava, Filippo Menczer, Kaicheng Yang, Onur Varol, Pik-mai Hui, Kokil Jaidka, Subhayan Mukerjee, Yphtach Lelkes, Dashun Wang, Lu Liu, Nima Dehmamy, Benoit Schmutz, Germain Gauthier, Pierre Boyer, Thomas Delemotte, Vincent Rollet, Jonathan Morgan, Kenneth Joseph, Aaron Clauset, Daniel Larremore, Kenneth Wapman, Clara Hanson, Dean Eckles, Kiran Garimella, Maurice Jakesch, Mor Naaman, Alex Pentland, Alia Braley, Dhaval Adjodah, Hossein Rahmana, Chris Bail, Douglas Guilbeault, Eaman Jahani, Friedolin Merhout, Natalie Gallagher, Nicolo Cavalli, Yan Leng, Xin Jin, Fabrizio Lillo, Francesca Chiaromonte, Giorgio Tripodi, Itto Kornecki, Mikhail Sirenko, Nuno Araujo, Scott Cunningham, Trivik Verma, Caterina Gennaioli, Jianjian Gao, Pietro Panzarasa, Sam Fankhauser, Stefano Carattini, Alessandro Flammini, Bao Truong, Christopher Torres-lugo, Filippo Menczer, Pacheco Diogo, Pik-mai Hui, Ian Miller, David Jurgens, Hao Peng, Misha Teplitskiy, Agnes Horvat, Henry Dambanemuya, Madhav Joshi, Alex Pentland, Dan Calacci, Esteban Moro, Xiaowen Dong, Jisung Yoon, Kaicheng Yang, Woo-sung Jung, Yy Ahn, Aaron Cluaset, Amir Ghasemian, David Rothschild, Duncan Watts, Homa Hosseinmardi, Arthur Luhur, Beom Kim, Jaehyuk Park, Woo Jo, Yy Ahn, Christopher Torres-lugo, Filippo Menczer, Kaicheng Yang, Pik-mai Hui, Ceren Budak, Daniel Romero, Hao Peng, Qing Ke, Yy Ahn, Sean Fischer, Alex Pentland, Alfredo Morales, Isabella Loaiza, Matej Novak, Akira Matsui, Emilio Ferrara, Emily Chen, Morteza Dehghani, Yunwen Wang, Alireza Sabet, Marco Brambilla, Krish Perumal, Narayanamoorthy Nanditha, Daniel Acuna, Tong Zeng, Craig Tutterow, James Evans, Lingfei Wu, Abigail Horn, Alex Pentland, Esteban Moro, Kayla Haye, Mohsen Bahrami, Yamir Moreno, Iyad Rahwan, Aolong Zha, Itsuki Noda, Christopher Danforth, Jeanie Lim, Kelsey Linnell, Peter Dodds, Thayer Alshaabi, Tom Mcandrew, Francesca Gino, Julia Minson, Mike Yeomans, Azim Shariff, Edmond Awad, Iyad Rahwan, Jean-francois Bonnefon, Sohan Dsouza, Cuihua Shen, Jian Zhu, Yixin Zhou, Jason Jones, Jessica Kim, Mohammad Amin, Steven Skiena, Alex Pentland, Alex Rutherford, Esteban Moro, Iyad Rahwan, Manuel Cebrian, Morgan Frank, Adam Pah, David Schwartz, Luis Amaral, Florian Cafiero, Jeremy Ward, Paul Guille-escuret, Alex Pentland, Tara Sowrirajan, Tatiana Lau, Diogo Pacheco, Filippo Menczer, Wen Chen, David Lazer, Dhaval Adjodah, Nir Grinberg, Samuel Fraiberger, Agnes Horvat, Yixue Wang, Claudia Wagner, Milena Tsvetkova, Oana Vuculescu, Alex Pentland, Christos Nicolaides, Dean Eckles, Yuan Yuan, Dana Warmsley, Samuel Johnson, Alexander Verbraeck, Mikhail Sirenko, Scott Cunningham, Trivik Verma, Yilin Huang, Agnes Horvat, Igor Zakhlebin, Orsolya Vasarhelyi, Stasa Milojevic, Ananth Balashankar, Lakshmi Subramanian, Samuel Fraiberger, Ashton Anderson, Lillio Mok, Anne Stupinski, Christopher Danforth, Peter Dodds, Thayer Alshaabi, Babak Heydari, Dan O'brien, Laiyang Ke, Alex Pentland, Esteban Moro, Matias Travizano, Xiaowen Dong, Yan Leng, Amit Sheth, Krishnaprasad Thirunarayan, Maninder Kalra, Marco Valtorta, Utkarshani Ja, Adam Hughes, Onyi Lam, Stefan Wojcik, Leonardo Nicoletti, Mikhail Sirkenko, Trivik Verma, Eni Mustafaraj, Caitlin Gray, Lewis Mitchell, Matthewhew Roughan, Antoine Mazieres, Camille Roth, Telmo Menezes, Fan Zhang, Zhuangyuan Fan, Alicia Cork, Mark Levine, Miriam Koschate-reis, Richard Everson, Anna Tedijanto, Anneke Buffone, H , Rediet Abebe, Salvatore Giorgi, Anindya Ghose, Panos Ipeirotis, Prasanna Parasurama, Marco Brambilla, Margherita Ricotti, Dorian Tsolak, Simon Kuhne, Andrea Baronchelli, Damon Centola, Douglas Guilbeault, Martin Hilbert, Mario Molina, Martin Hilbert, Qiankun Zhong, Seth Frey, Nicolas Pares, Peter Organisciak, Arram Bae, Jingbo Meng, Winson Peng, Christian Strippel, Joachim Trebbe, Laura Laugwitz, Martin Emmer, Sunje Paasch-colberg, Alexander Mantzaris, Ivan Garibay, Jasser Jasser, Steve Scheinert, Ece Mutlu, Ivan Garibay, Feng Fu, Matthewhew Jones, Scott Pauls, Aditya Tandon, Alessandro Flammini, Diego Amancio, Filipi Silva, Filippo Menczer, Santo Fortunato, Stasa Milojevic, Flora Samu, Julia Galantai, Karoly Takacs, Itsuki Fujisaki, Kazuhiro Ueda, Kunhao Yang, Alex Pentland, Michiel Bakker, Qiankun Zhong, Seth Frey, Blake Wertz, Martin Hilbert, Qiankun Zhong, Seth Frey, Alexander Brand, Niklas Dorner, Oliver Wieczorek, Alexis Perrier, Bilel Benbouzid, Emma Gauthier, Pedro Morales, King-wa Fu, Dr Harris, Prof Levene, Juan Losada, Julia Atienza-barthelemy, Rosa Benito, Samuel Martin-gutierrez, Mariko Ito, Takaaki Ohnishi, Issa Luna-pla, Jose Carlock, Anahit Sargsyan, Bedoor Alshebli, Maria Sahakyan, Talal Rahwan, Chico Camargo, Scott Hale, Ruilin Chen, Barry Bradlyn, Emiliano Cristofaro, Gianluca Stringhini, Jeremy Blackburn, Manoel Ribeiro, Savvas Zannettou, Stephanie Greenberg, Summer Long, John Lang, Pj Lamberson, Shan Huang, Yifan Yu, Yong Tan, Yuchen Liu, David Holtz, Janet Xu, Sanaz Mobasseri, Zanele Munyikwa, Justin Ho, Francesco Rampazzo, Francesco Silvestri, Katherine Pham, Pietro Rampazzo, Dokyun Lee, Emaad Manzoor, George Chen, Michael Smith, Ceren Budak, Daniel Romero, David Jurgens, Minje Choi, Daniel Acuna, Han Zhuang, Aleksei Rotmistrov, Svetlana Zhuchkova, Sanguk Lee, Tai-quan Peng, Adam Berinsky, Chloe Wittenberg, David Rand, Jonathan Zong, Jiangmeng Liu, Muyang Li, Qinghua Yang, Zhifan Luo, Jos Lemmink, Mark Graus, Steffi Kohl, King-wa Fu, Yuner Zhu, Chang-young Oh, Deok-sun Lee, Sung-gook Choi, Masahiro Kazama, Sho Izumo, Tim Lomas, Yoshiki Ishikawa, Apratim Mishra, Jaihyun Park, Jana Diesner, Rezvaneh Rezapour, James Bagrow, Lewis Mitchell, Saranzaya Magsarjav, Tobin South, Tyson Pond, Kenneth Joseph, Zijian An, Alex Pentland, Esteban Egido, Yanni Yang, Luca Rossi, Michele Coscia, Myung Cho, Sanguk Lee, Tai-quan Peng, Shengchun Huang, Tian Yang, Jennifer Pan, Yingdan Lu, Christopher Danforth, David Dewhurst, Jane Adams, Joshua Minot, Michael Arnold, Peter Dodds, Thayer Alshaabi, Clifford Odimegwu, Emmanuel Olamijuwon, Camille Roth, Telmo Menezes, Martin Lukac, Ania Korsunska, Jay Kachhadia, Jennifer Stromer-galley, Sarah Bolden, Shloak Gupta, Caterina Gennaioli, Jianjian Gao, Pietro Panzarasa, Daniel Acuna, Lizhen Liang, Cassidy Sugimoto, Dakota Murray, Guillaume Cabanac, Vincent Lariviere, Dana Fisher, Frederic Heaume, Iain Weaver, Lorien Jasny, Munther Dahleh, Tianyi Li, Florian Cafiero, Marie Puren, Mauricio Barahona, Paul Expert, Pietro Panzarasa, Yifan Qian, Felix Munch, Luca Rossi, Dongwoo Lim, Fujio Toriumi, Jacobo Abitbol, Marton Karsai, Feifan Liu, Haoxiang Xia, Jaihyun Park, Jana Diesner, Rezvaneh Rezapour, Karoline Wiesner\"\n",
    "names_2020 = raw_data.split(\", \")\n",
    "print(len(names_2020))"
   ]
  },
  {
   "cell_type": "markdown",
   "metadata": {},
   "source": [
    "2021"
   ]
  },
  {
   "cell_type": "code",
   "execution_count": 4,
   "metadata": {},
   "outputs": [
    {
     "name": "stdout",
     "output_type": "stream",
     "text": [
      "716\n"
     ]
    }
   ],
   "source": [
    "LINK = \"https://easychair.org/smart-program/IC2S2-2021/talk_author_index.html\"\n",
    "r = requests.get(LINK)\n",
    "soup = BeautifulSoup(r.content)\n",
    "\n",
    "table = pd.read_html(LINK)\n",
    "names_2021 = []\n",
    "for name in table[0][0]:\n",
    "    if (type(name) is str and len(name) > 1):\n",
    "        last_first = name.split(', ')\n",
    "        first_last = last_first[1] + \" \" + last_first[0]\n",
    "        names_2021.append(first_last)\n",
    "\n",
    "print(len(names_2021))"
   ]
  },
  {
   "cell_type": "code",
   "execution_count": 5,
   "metadata": {},
   "outputs": [
    {
     "name": "stdout",
     "output_type": "stream",
     "text": [
      "2438\n"
     ]
    }
   ],
   "source": [
    "import pandas as pd\n",
    "allnamesCSV = pd.read_csv(\"./data/all_names.csv\")\n",
    "morenames = allnamesCSV['name'].tolist()\n",
    "print(len(morenames))"
   ]
  },
  {
   "cell_type": "code",
   "execution_count": 6,
   "metadata": {},
   "outputs": [
    {
     "name": "stdout",
     "output_type": "stream",
     "text": [
      "2438\n"
     ]
    }
   ],
   "source": [
    "all_names = names_2019 + names_2020 + names_2021 + morenames\n",
    "all_names = np.unique(all_names)\n",
    "print(len(all_names))"
   ]
  },
  {
   "cell_type": "code",
   "execution_count": 8,
   "metadata": {},
   "outputs": [],
   "source": [
    "dict = {'name': all_names}  \n",
    "       \n",
    "df = pd.DataFrame(dict) \n",
    "    \n",
    "# saving the dataframe \n",
    "df.to_csv('./data/names.csv') "
   ]
  }
 ],
 "metadata": {
  "interpreter": {
   "hash": "cf1cc9488f986e55b9ad02ec3dbe006a9544ef0e041cc52f3db2baca54acebc8"
  },
  "kernelspec": {
   "display_name": "Python 3.9.7 64-bit ('base': conda)",
   "language": "python",
   "name": "python3"
  },
  "language_info": {
   "codemirror_mode": {
    "name": "ipython",
    "version": 3
   },
   "file_extension": ".py",
   "mimetype": "text/x-python",
   "name": "python",
   "nbconvert_exporter": "python",
   "pygments_lexer": "ipython3",
   "version": "3.9.7"
  },
  "orig_nbformat": 4
 },
 "nbformat": 4,
 "nbformat_minor": 2
}
