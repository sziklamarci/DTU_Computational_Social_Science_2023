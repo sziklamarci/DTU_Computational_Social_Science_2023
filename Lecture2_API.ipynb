{
 "cells": [
  {
   "cell_type": "code",
   "execution_count": null,
   "metadata": {},
   "outputs": [],
   "source": [
    "import requests"
   ]
  },
  {
   "cell_type": "code",
   "execution_count": null,
   "metadata": {},
   "outputs": [],
   "source": [
    "BASE_URL = \"https://api.semanticscholar.org/graph/\"\n",
    "VERSION = \"v1/\"\n",
    "RESOURCE = \"author/search\"\n",
    "params = {\"query\" : [\"Alexander Mantzaris\"]\n",
    "}\n",
    "my_url = BASE_URL + VERSION + RESOURCE\n",
    "response = requests.get(my_url, params=params).json()\n",
    "response"
   ]
  }
 ],
 "metadata": {
  "kernelspec": {
   "display_name": ".venv",
   "language": "python",
   "name": "python3"
  },
  "language_info": {
   "name": "python",
   "version": "3.11.2"
  },
  "orig_nbformat": 4,
  "vscode": {
   "interpreter": {
    "hash": "6f28056c85ad683ce4508f93dab4bdf67f0bd635cfe5ea3e71bc4a37b6aa9181"
   }
  }
 },
 "nbformat": 4,
 "nbformat_minor": 2
}
